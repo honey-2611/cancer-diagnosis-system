{
 "cells": [
  {
   "cell_type": "markdown",
   "id": "c2d487aa",
   "metadata": {},
   "source": [
    "## 1. Install Required Libraries"
   ]
  },
  {
   "cell_type": "code",
   "execution_count": 3,
   "id": "70060032",
   "metadata": {},
   "outputs": [
    {
     "name": "stdout",
     "output_type": "stream",
     "text": [
      "Requirement already satisfied: pandas in c:\\users\\honey\\anaconda3\\lib\\site-packages (1.5.3)\n",
      "Requirement already satisfied: scikit-learn in c:\\users\\honey\\anaconda3\\lib\\site-packages (1.3.2)\n",
      "Requirement already satisfied: xgboost in c:\\users\\honey\\anaconda3\\lib\\site-packages (2.1.4)\n",
      "Requirement already satisfied: python-dateutil>=2.8.1 in c:\\users\\honey\\anaconda3\\lib\\site-packages (from pandas) (2.8.2)\n",
      "Requirement already satisfied: pytz>=2020.1 in c:\\users\\honey\\anaconda3\\lib\\site-packages (from pandas) (2022.7)\n",
      "Requirement already satisfied: numpy>=1.21.0 in c:\\users\\honey\\anaconda3\\lib\\site-packages (from pandas) (1.26.4)\n",
      "Requirement already satisfied: scipy>=1.5.0 in c:\\users\\honey\\anaconda3\\lib\\site-packages (from scikit-learn) (1.10.0)\n",
      "Requirement already satisfied: joblib>=1.1.1 in c:\\users\\honey\\anaconda3\\lib\\site-packages (from scikit-learn) (1.1.1)\n",
      "Requirement already satisfied: threadpoolctl>=2.0.0 in c:\\users\\honey\\anaconda3\\lib\\site-packages (from scikit-learn) (3.5.0)\n",
      "Requirement already satisfied: six>=1.5 in c:\\users\\honey\\anaconda3\\lib\\site-packages (from python-dateutil>=2.8.1->pandas) (1.16.0)\n"
     ]
    }
   ],
   "source": [
    "!pip install pandas scikit-learn xgboost\n"
   ]
  },
  {
   "cell_type": "code",
   "execution_count": 4,
   "id": "fb199d21",
   "metadata": {},
   "outputs": [],
   "source": [
    "from sklearn.ensemble import RandomForestClassifier\n"
   ]
  },
  {
   "cell_type": "markdown",
   "id": "31bc2aee",
   "metadata": {},
   "source": [
    "## 2. Import Libraries"
   ]
  },
  {
   "cell_type": "code",
   "execution_count": 5,
   "id": "3b9289af",
   "metadata": {},
   "outputs": [],
   "source": [
    "import pandas as pd\n",
    "import numpy as np\n",
    "from sklearn.model_selection import train_test_split\n",
    "from sklearn.preprocessing import LabelEncoder, StandardScaler\n",
    "from sklearn.ensemble import RandomForestClassifier\n",
    "import xgboost as xgb\n",
    "from sklearn.metrics import accuracy_score, classification_report\n",
    "import joblib  # to save the model\n"
   ]
  },
  {
   "cell_type": "markdown",
   "id": "442b1d50",
   "metadata": {},
   "source": [
    "## 3. Load the Lung Cancer Dataset"
   ]
  },
  {
   "cell_type": "code",
   "execution_count": 6,
   "id": "65a73dc1",
   "metadata": {},
   "outputs": [],
   "source": [
    "lung_df = pd.read_csv(\"../datasets/lung_cancer.csv\")\n"
   ]
  },
  {
   "cell_type": "markdown",
   "id": "c5453821",
   "metadata": {},
   "source": [
    "#### Step 2: Handle Categorical Text Columns Manually\n",
    "\n",
    "#####  Fix GENDER and any other string columns properly:"
   ]
  },
  {
   "cell_type": "code",
   "execution_count": 7,
   "id": "d691b0a8",
   "metadata": {},
   "outputs": [
    {
     "name": "stdout",
     "output_type": "stream",
     "text": [
      "GENDER                   object\n",
      "AGE                       int64\n",
      "SMOKING                   int64\n",
      "YELLOW_FINGERS            int64\n",
      "ANXIETY                   int64\n",
      "PEER_PRESSURE             int64\n",
      "CHRONIC_DISEASE           int64\n",
      "FATIGUE                   int64\n",
      "ALLERGY                   int64\n",
      "WHEEZING                  int64\n",
      "ALCOHOL_CONSUMING         int64\n",
      "COUGHING                  int64\n",
      "SHORTNESS_OF_BREATH       int64\n",
      "SWALLOWING_DIFFICULTY     int64\n",
      "CHEST_PAIN                int64\n",
      "LUNG_CANCER              object\n",
      "dtype: object\n"
     ]
    }
   ],
   "source": [
    "# Check first\n",
    "print(lung_df.dtypes)\n",
    "\n",
    "# Encode GENDER manually\n",
    "lung_df['GENDER'] = lung_df['GENDER'].replace({'M':1, 'F':0})\n"
   ]
  },
  {
   "cell_type": "markdown",
   "id": "3b9b9b17",
   "metadata": {},
   "source": [
    "#### Step 3: Then Fix 1/2 to 1/0 Mapping"
   ]
  },
  {
   "cell_type": "code",
   "execution_count": 8,
   "id": "4f1bfefc",
   "metadata": {},
   "outputs": [],
   "source": [
    "# Map 2 -> 0 (No), 1 -> 1 (Yes)\n",
    "for column in lung_df.columns:\n",
    "    if lung_df[column].nunique() == 2 or lung_df[column].nunique() == 3:\n",
    "        lung_df[column] = lung_df[column].replace({2:0})\n"
   ]
  },
  {
   "cell_type": "code",
   "execution_count": 9,
   "id": "0419540e",
   "metadata": {},
   "outputs": [],
   "source": [
    "# Fix target column encoding\n",
    "lung_df['LUNG_CANCER'] = lung_df['LUNG_CANCER'].replace({'YES':1, 'NO':0})\n"
   ]
  },
  {
   "cell_type": "markdown",
   "id": "9ee05950",
   "metadata": {},
   "source": [
    "#### Step 4: Now Split Features and Target"
   ]
  },
  {
   "cell_type": "code",
   "execution_count": 10,
   "id": "98891604",
   "metadata": {},
   "outputs": [
    {
     "name": "stdout",
     "output_type": "stream",
     "text": [
      "Number of features: 15\n"
     ]
    }
   ],
   "source": [
    "X = lung_df.drop(columns=['LUNG_CANCER'])\n",
    "print(\"Number of features:\", X.shape[1])\n",
    "\n",
    "y = lung_df['LUNG_CANCER']\n"
   ]
  },
  {
   "cell_type": "markdown",
   "id": "1830c93b",
   "metadata": {},
   "source": [
    "#### Step 5: Scaling and Train/Test Split"
   ]
  },
  {
   "cell_type": "code",
   "execution_count": 11,
   "id": "16f12c46",
   "metadata": {},
   "outputs": [],
   "source": [
    "from sklearn.preprocessing import StandardScaler\n",
    "scaler = StandardScaler()\n",
    "X_scaled = scaler.fit_transform(X)\n",
    "\n",
    "from sklearn.model_selection import train_test_split\n",
    "X_train, X_test, y_train, y_test = train_test_split(X_scaled, y, test_size=0.2, random_state=42)\n"
   ]
  },
  {
   "cell_type": "code",
   "execution_count": null,
   "id": "65cff1c4",
   "metadata": {},
   "outputs": [],
   "source": []
  },
  {
   "cell_type": "code",
   "execution_count": null,
   "id": "957187b8",
   "metadata": {},
   "outputs": [],
   "source": []
  },
  {
   "cell_type": "markdown",
   "id": "6b471fb3",
   "metadata": {},
   "source": [
    "## 5. Train Random Forest and XGBoost"
   ]
  },
  {
   "cell_type": "code",
   "execution_count": 12,
   "id": "8fed191a",
   "metadata": {},
   "outputs": [
    {
     "name": "stderr",
     "output_type": "stream",
     "text": [
      "C:\\Users\\Honey\\anaconda3\\lib\\site-packages\\xgboost\\core.py:158: UserWarning: [17:32:58] WARNING: C:\\buildkite-agent\\builds\\buildkite-windows-cpu-autoscaling-group-i-08cbc0333d8d4aae1-1\\xgboost\\xgboost-ci-windows\\src\\learner.cc:740: \n",
      "Parameters: { \"use_label_encoder\" } are not used.\n",
      "\n",
      "  warnings.warn(smsg, UserWarning)\n"
     ]
    }
   ],
   "source": [
    "# Random Forest\n",
    "rf_model = RandomForestClassifier(random_state=42)\n",
    "rf_model.fit(X_train, y_train)\n",
    "rf_pred = rf_model.predict(X_test)\n",
    "\n",
    "# XGBoost\n",
    "xgb_model = xgb.XGBClassifier(use_label_encoder=False, eval_metric='logloss')\n",
    "xgb_model.fit(X_train, y_train)\n",
    "xgb_pred = xgb_model.predict(X_test)\n"
   ]
  },
  {
   "cell_type": "markdown",
   "id": "a00a9793",
   "metadata": {},
   "source": [
    "## 6. Evaluate Models"
   ]
  },
  {
   "cell_type": "code",
   "execution_count": 13,
   "id": "c47702d3",
   "metadata": {},
   "outputs": [
    {
     "name": "stdout",
     "output_type": "stream",
     "text": [
      "Random Forest Accuracy: 0.5083333333333333\n",
      "Random Forest Report:\n",
      "               precision    recall  f1-score   support\n",
      "\n",
      "           0       0.51      0.48      0.49       302\n",
      "           1       0.50      0.54      0.52       298\n",
      "\n",
      "    accuracy                           0.51       600\n",
      "   macro avg       0.51      0.51      0.51       600\n",
      "weighted avg       0.51      0.51      0.51       600\n",
      "\n",
      "XGBoost Accuracy: 0.48833333333333334\n",
      "XGBoost Report:\n",
      "               precision    recall  f1-score   support\n",
      "\n",
      "           0       0.49      0.45      0.47       302\n",
      "           1       0.49      0.53      0.51       298\n",
      "\n",
      "    accuracy                           0.49       600\n",
      "   macro avg       0.49      0.49      0.49       600\n",
      "weighted avg       0.49      0.49      0.49       600\n",
      "\n"
     ]
    }
   ],
   "source": [
    "print(\"Random Forest Accuracy:\", accuracy_score(y_test, rf_pred))\n",
    "print(\"Random Forest Report:\\n\", classification_report(y_test, rf_pred))\n",
    "\n",
    "print(\"XGBoost Accuracy:\", accuracy_score(y_test, xgb_pred))\n",
    "print(\"XGBoost Report:\\n\", classification_report(y_test, xgb_pred))\n"
   ]
  },
  {
   "cell_type": "code",
   "execution_count": 14,
   "id": "992bc710",
   "metadata": {},
   "outputs": [
    {
     "name": "stdout",
     "output_type": "stream",
     "text": [
      "✅ Model saved successfully to models/lung_cancer_model.pkl!\n"
     ]
    }
   ],
   "source": [
    "import os\n",
    "\n",
    "# ✅ Create 'models' folder if it doesn't exist\n",
    "os.makedirs(\"models\", exist_ok=True)\n",
    "\n",
    "# ✅ Now save the model safely\n",
    "joblib.dump(rf_model, \"models/lung_cancer_model.pkl\")\n",
    "print(\"✅ Model saved successfully to models/lung_cancer_model.pkl!\")\n"
   ]
  },
  {
   "cell_type": "code",
   "execution_count": null,
   "id": "47050818",
   "metadata": {},
   "outputs": [],
   "source": [
    "\n"
   ]
  },
  {
   "cell_type": "code",
   "execution_count": null,
   "id": "21080d44",
   "metadata": {},
   "outputs": [],
   "source": [
    "\n"
   ]
  },
  {
   "cell_type": "code",
   "execution_count": null,
   "id": "282a2846",
   "metadata": {},
   "outputs": [],
   "source": []
  }
 ],
 "metadata": {
  "kernelspec": {
   "display_name": "Python 3 (ipykernel)",
   "language": "python",
   "name": "python3"
  },
  "language_info": {
   "codemirror_mode": {
    "name": "ipython",
    "version": 3
   },
   "file_extension": ".py",
   "mimetype": "text/x-python",
   "name": "python",
   "nbconvert_exporter": "python",
   "pygments_lexer": "ipython3",
   "version": "3.10.9"
  }
 },
 "nbformat": 4,
 "nbformat_minor": 5
}
