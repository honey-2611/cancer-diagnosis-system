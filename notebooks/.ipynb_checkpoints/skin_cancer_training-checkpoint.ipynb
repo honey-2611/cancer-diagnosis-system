{
 "cells": [
  {
   "cell_type": "markdown",
   "id": "5ad37b08",
   "metadata": {},
   "source": [
    "##  Train Skin Cancer Model"
   ]
  },
  {
   "cell_type": "code",
   "execution_count": 1,
   "id": "74f36062",
   "metadata": {},
   "outputs": [],
   "source": [
    "# 📦 Import Libraries\n",
    "import pandas as pd\n",
    "import numpy as np\n",
    "from sklearn.model_selection import train_test_split\n",
    "from sklearn.preprocessing import LabelEncoder, StandardScaler\n",
    "from sklearn.ensemble import RandomForestClassifier\n",
    "import xgboost as xgb\n",
    "from sklearn.metrics import accuracy_score, classification_report\n",
    "import joblib\n",
    "\n",
    "\n",
    "\n",
    "\n",
    "\n",
    "\n"
   ]
  },
  {
   "cell_type": "code",
   "execution_count": 5,
   "id": "264499f2",
   "metadata": {},
   "outputs": [
    {
     "name": "stdout",
     "output_type": "stream",
     "text": [
      "   Age  Gender Family_History Sun_Exposure Mole_Growth Skin_Pigmentation  \\\n",
      "0   45    Male            Yes         High         Yes              Dark   \n",
      "1   30  Female             No       Medium          No              Fair   \n",
      "2   60    Male            Yes         High         Yes              Dark   \n",
      "3   25  Female             No          Low          No              Fair   \n",
      "4   50    Male            Yes         High         Yes              Dark   \n",
      "\n",
      "      Cancer  \n",
      "0  Malignant  \n",
      "1     Benign  \n",
      "2  Malignant  \n",
      "3     Benign  \n",
      "4  Malignant  \n"
     ]
    }
   ],
   "source": [
    "# 📂 Load Dataset\n",
    "skin_df = pd.read_csv(\"skin_cancer.csv\")\n",
    "print(skin_df.head())"
   ]
  },
  {
   "cell_type": "code",
   "execution_count": 6,
   "id": "8bc66205",
   "metadata": {},
   "outputs": [
    {
     "name": "stdout",
     "output_type": "stream",
     "text": [
      "Number of training features: 6\n"
     ]
    }
   ],
   "source": [
    "# 🛠️ Preprocessing\n",
    "# Encode categorical columns\n",
    "label_encoders = {}\n",
    "for column in skin_df.columns:\n",
    "    if skin_df[column].dtype == 'object':\n",
    "        le = LabelEncoder()\n",
    "        skin_df[column] = le.fit_transform(skin_df[column])\n",
    "        label_encoders[column] = le\n",
    "\n",
    "# 🎯 Split Features and Target\n",
    "X = skin_df.drop(columns=[\"Cancer\"])\n",
    "print(\"Number of training features:\", X.shape[1])\n",
    "\n",
    "y = skin_df[\"Cancer\"]\n",
    "\n",
    "# 📏 Feature Scaling\n",
    "scaler = StandardScaler()\n",
    "X_scaled = scaler.fit_transform(X)\n",
    "\n",
    "# 🔀 Train-Test Split\n",
    "X_train, X_test, y_train, y_test = train_test_split(X_scaled, y, test_size=0.2, random_state=42)\n"
   ]
  },
  {
   "cell_type": "code",
   "execution_count": 7,
   "id": "293ffcfc",
   "metadata": {},
   "outputs": [
    {
     "name": "stderr",
     "output_type": "stream",
     "text": [
      "C:\\Users\\Honey\\anaconda3\\lib\\site-packages\\xgboost\\core.py:158: UserWarning: [17:14:03] WARNING: C:\\buildkite-agent\\builds\\buildkite-windows-cpu-autoscaling-group-i-08cbc0333d8d4aae1-1\\xgboost\\xgboost-ci-windows\\src\\learner.cc:740: \n",
      "Parameters: { \"use_label_encoder\" } are not used.\n",
      "\n",
      "  warnings.warn(smsg, UserWarning)\n"
     ]
    }
   ],
   "source": [
    "# 🤖 Train Random Forest Classifier\n",
    "rf_model = RandomForestClassifier(random_state=42)\n",
    "rf_model.fit(X_train, y_train)\n",
    "rf_pred = rf_model.predict(X_test)\n",
    "\n",
    "# 🤖 Train XGBoost Classifier\n",
    "xgb_model = xgb.XGBClassifier(use_label_encoder=False, eval_metric='logloss')\n",
    "xgb_model.fit(X_train, y_train)\n",
    "xgb_pred = xgb_model.predict(X_test)"
   ]
  },
  {
   "cell_type": "code",
   "execution_count": 8,
   "id": "920a131b",
   "metadata": {},
   "outputs": [
    {
     "name": "stdout",
     "output_type": "stream",
     "text": [
      "Random Forest Accuracy: 1.0\n",
      "Random Forest Report:\n",
      "               precision    recall  f1-score   support\n",
      "\n",
      "           0       1.00      1.00      1.00         2\n",
      "           1       1.00      1.00      1.00         2\n",
      "\n",
      "    accuracy                           1.00         4\n",
      "   macro avg       1.00      1.00      1.00         4\n",
      "weighted avg       1.00      1.00      1.00         4\n",
      "\n",
      "XGBoost Accuracy: 1.0\n",
      "XGBoost Report:\n",
      "               precision    recall  f1-score   support\n",
      "\n",
      "           0       1.00      1.00      1.00         2\n",
      "           1       1.00      1.00      1.00         2\n",
      "\n",
      "    accuracy                           1.00         4\n",
      "   macro avg       1.00      1.00      1.00         4\n",
      "weighted avg       1.00      1.00      1.00         4\n",
      "\n"
     ]
    }
   ],
   "source": [
    "# 📈 Evaluate Models\n",
    "print(\"Random Forest Accuracy:\", accuracy_score(y_test, rf_pred))\n",
    "print(\"Random Forest Report:\\n\", classification_report(y_test, rf_pred))\n",
    "\n",
    "print(\"XGBoost Accuracy:\", accuracy_score(y_test, xgb_pred))\n",
    "print(\"XGBoost Report:\\n\", classification_report(y_test, xgb_pred))\n",
    "\n"
   ]
  },
  {
   "cell_type": "code",
   "execution_count": 9,
   "id": "89e01d81",
   "metadata": {},
   "outputs": [
    {
     "data": {
      "text/plain": [
       "['models/skin_cancer_model.pkl']"
      ]
     },
     "execution_count": 9,
     "metadata": {},
     "output_type": "execute_result"
    }
   ],
   "source": [
    "# 💾 Save the better model (Random Forest or XGBoost)\n",
    "joblib.dump(rf_model, \"models/skin_cancer_model.pkl\")\n"
   ]
  },
  {
   "cell_type": "code",
   "execution_count": null,
   "id": "3946eddc",
   "metadata": {},
   "outputs": [],
   "source": []
  }
 ],
 "metadata": {
  "kernelspec": {
   "display_name": "Python 3 (ipykernel)",
   "language": "python",
   "name": "python3"
  },
  "language_info": {
   "codemirror_mode": {
    "name": "ipython",
    "version": 3
   },
   "file_extension": ".py",
   "mimetype": "text/x-python",
   "name": "python",
   "nbconvert_exporter": "python",
   "pygments_lexer": "ipython3",
   "version": "3.10.9"
  }
 },
 "nbformat": 4,
 "nbformat_minor": 5
}
